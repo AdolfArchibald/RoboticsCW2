{
 "cells": [
  {
   "cell_type": "markdown",
   "id": "1fbd26fb-e7ff-4246-bb90-e1827312327b",
   "metadata": {
    "jp-MarkdownHeadingCollapsed": true
   },
   "source": [
    "# Imports"
   ]
  },
  {
   "cell_type": "code",
   "execution_count": 1,
   "id": "72a52403-5013-4e38-a538-e0e5cfcfcdc3",
   "metadata": {},
   "outputs": [],
   "source": [
    "from Arm_Lib import Arm_Device\n",
    "import time\n",
    "import cv2\n",
    "import tensorflow as tf\n",
    "from keras.models import load_model\n",
    "import numpy as np\n",
    "from PIL import Image\n",
    "import io\n",
    "# import json\n",
    "# from tensorflow.keras.models import model_from_json"
   ]
  },
  {
   "cell_type": "markdown",
   "id": "1ffbb37b-5a3d-4d69-ba30-2daf9c70c017",
   "metadata": {},
   "source": [
    "# Initial Variable Setup"
   ]
  },
  {
   "cell_type": "code",
   "execution_count": 2,
   "id": "eae28105-1acb-4bfe-813a-2bb2c993c0ec",
   "metadata": {},
   "outputs": [],
   "source": [
    "Arm = Arm_Device()"
   ]
  },
  {
   "cell_type": "markdown",
   "id": "afe4d6b1-62e6-46e4-9094-1bb8574278da",
   "metadata": {},
   "source": [
    "# All Positions"
   ]
  },
  {
   "cell_type": "code",
   "execution_count": 4,
   "id": "453dfd37-ca60-4ba6-8637-2455386f29ea",
   "metadata": {},
   "outputs": [],
   "source": [
    "positions = {\n",
    "    0: [123, 67, 26, 1, 116, 135],\n",
    "    1: [110, 72, 19, 1, 107, 135],\n",
    "    2: [95, 72, 18, 2, 87, 135],\n",
    "    3: [79, 74, 17, 2, 75, 135],\n",
    "    4: [66, 72, 18, 4, 65, 135],\n",
    "    5: [70, 62, 32, 4, 67, 135],\n",
    "    6: [78, 86, 5, 16, 73, 135],\n",
    "    7: [92, 79, 13, 11, 87, 135],\n",
    "    8: [105, 67, 28, 5, 102, 135],\n",
    "    9: [118, 61, 29, 8, 111, 135],\n",
    "    10: [114, 52, 41, 9, 108, 135],\n",
    "    11: [105, 54, 41, 7, 98, 135],\n",
    "    12: [91, 56, 43, 3, 88, 135],\n",
    "    13: [81, 66, 22, 18, 77, 135],\n",
    "    14: [73, 50, 46, 5, 66, 135],\n",
    "    15: [76, 37, 66, 3, 68, 135],\n",
    "    16: [84, 39, 61, 4, 79, 135],\n",
    "    17: [95, 48, 47, 12, 87, 135],\n",
    "    18: [103, 45, 50, 11, 98, 135],\n",
    "    19: [111, 42, 53, 12, 106, 135],\n",
    "    20: [109, 30, 72, 11, 105, 135],\n",
    "    21: [99, 39, 57, 18, 98, 135],\n",
    "    22: [91, 44, 53, 16, 88, 135],\n",
    "    23: [85, 30, 73, 8, 81, 135],\n",
    "    24: [76, 51, 36, 33, 75, 135],\n",
    "    25: [76, 34, 65, 23, 71, 135],\n",
    "    26: [83, 35, 62, 23, 80, 135],\n",
    "    27: [93, 38, 54, 29, 87, 135],\n",
    "    28: [100, 24, 80, 14, 95, 135],\n",
    "    29: [106, 28, 70, 22, 104, 135],\n",
    "    30: [105, 21, 74, 33, 104, 135],\n",
    "    31: [98, 2, 115, 12, 100, 133],\n",
    "    32: [92, 2, 115, 12, 92, 132],\n",
    "    33: [85, 2, 115, 12, 85, 131],\n",
    "    34: [80, 2, 115, 12, 80, 130],\n",
    "    'dice': [103, 3, 91, 48, 87, 180],\n",
    "    'dice_read': [90, 64, 63, 0, 87, 180]\n",
    "}"
   ]
  },
  {
   "cell_type": "markdown",
   "id": "7d22d5ab-9e34-417c-b781-89c3778565ce",
   "metadata": {},
   "source": [
    "# Functions"
   ]
  },
  {
   "cell_type": "markdown",
   "id": "5690c8ea-c72e-4cf0-9a31-2dc01bad3c65",
   "metadata": {},
   "source": [
    "Function to move the arm to a given position"
   ]
  },
  {
   "cell_type": "code",
   "execution_count": 5,
   "id": "fec2ea67-7d04-42b1-a370-cd2610b86648",
   "metadata": {},
   "outputs": [],
   "source": [
    "def moveArm(armObj, array):\n",
    "    armObj.Arm_serial_servo_write6(array[0], array[1], array[2], array[3], array[4], array[5], 4000)"
   ]
  },
  {
   "cell_type": "markdown",
   "id": "b3b1f25b-ee7c-4b99-9cff-6ee417ef1194",
   "metadata": {},
   "source": [
    "Function to return to the top (neutral position)"
   ]
  },
  {
   "cell_type": "code",
   "execution_count": 8,
   "id": "136e0d22-967e-4b09-97be-803055f5b222",
   "metadata": {},
   "outputs": [],
   "source": [
    "def return_to_top(armObj):\n",
    "    print(\"Going up\")\n",
    "    armObj.Arm_serial_servo_write6(90, 90, 90, 90, 90, 180, 2000)"
   ]
  },
  {
   "cell_type": "markdown",
   "id": "ce812945-1c6d-4ed9-84b6-a6e990892d1e",
   "metadata": {},
   "source": [
    "Function to Pick up the Piece"
   ]
  },
  {
   "cell_type": "code",
   "execution_count": 9,
   "id": "62cd4316-eeaf-4b17-86b2-55b6d024ece7",
   "metadata": {},
   "outputs": [],
   "source": [
    "def pick_up(armObj, pick_position):\n",
    "\n",
    "    # Ensure the gripper is open for pickup\n",
    "    pick_position[5] = 135\n",
    "    print(f\"Moving to pick position: {pick_position}\")\n",
    "    \n",
    "    # Move to the pick position\n",
    "    moveArm(armObj, pick_position)\n",
    "    time.sleep(5)\n",
    "\n",
    "    # Close the gripper to pick up the piece\n",
    "    armObj.Arm_serial_servo_write(6, 180, 3000)\n",
    "    time.sleep(4)\n",
    "    print(\"Picking up object...\")\n",
    "\n",
    "    # Go back to the top\n",
    "    return_to_top(armObj)\n",
    "    time.sleep(3)"
   ]
  },
  {
   "cell_type": "markdown",
   "id": "49d5ef1b-8da8-4610-98bd-073cbfaa495a",
   "metadata": {},
   "source": [
    "Function to put the piece down again"
   ]
  },
  {
   "cell_type": "code",
   "execution_count": 10,
   "id": "9209e7f1-96d3-4b8e-99bd-2e2e6d208a15",
   "metadata": {},
   "outputs": [],
   "source": [
    "def put_down(armObj, down_position):\n",
    "    print(f\"Moving to down position: {down_position}\")\n",
    "\n",
    "    # Move to the put down position\n",
    "    down_position[5] = 180\n",
    "    moveArm(armObj, down_position)\n",
    "    time.sleep(5)\n",
    "    \n",
    "    # Open the gripper to drop the piece\n",
    "    armObj.Arm_serial_servo_write(6, 135, 3000)\n",
    "    time.sleep(4)\n",
    "    print(\"Dropping Object...\")\n",
    "\n",
    "    # Go back to the top\n",
    "    return_to_top(armObj)\n",
    "    time.sleep(3)\n",
    "\n",
    "    # Open the Gripper again to get ready for next pickup\n",
    "    armObj.Arm_serial_servo_write(6, 135, 3000)"
   ]
  },
  {
   "cell_type": "markdown",
   "id": "fa0d63da-3b80-48c9-a3b7-13a68b839a99",
   "metadata": {},
   "source": [
    "Function to Take a Picture"
   ]
  },
  {
   "cell_type": "code",
   "execution_count": 11,
   "id": "4f937b16-d4a5-48fc-9329-e48cc0cff345",
   "metadata": {},
   "outputs": [],
   "source": [
    "def take_picture():\n",
    "    # Open the camera (default is usually 0)\n",
    "    cap = cv2.VideoCapture(0)\n",
    "    \n",
    "    # Check if the camera opened successfully\n",
    "    if not cap.isOpened():\n",
    "        print(\"Error: Could not access the camera.\")\n",
    "        \n",
    "    else:\n",
    "        # Capture a single frame from the camera\n",
    "        ret, frame = cap.read()\n",
    "    \n",
    "        if ret:\n",
    "            # Encode the image as jpg\n",
    "            ret, jpg_image = cv2.imencode('.jpg', frame)\n",
    "            \n",
    "        else:\n",
    "            print(\"Error: Could not capture image.\")\n",
    "    \n",
    "    # Release the camera and close any OpenCV windows\n",
    "    cap.release()\n",
    "    cv2.destroyAllWindows()\n",
    "\n",
    "    # Return the jpg image in byte format to easily load into AI model\n",
    "    return jpg_image.tobytes()"
   ]
  },
  {
   "cell_type": "markdown",
   "id": "6d23b7ee-24db-4486-9564-3a39e39e842e",
   "metadata": {},
   "source": [
    "Function to roll the dice"
   ]
  },
  {
   "cell_type": "code",
   "execution_count": 12,
   "id": "0324200e-d3d5-469d-aa59-79fee91f72da",
   "metadata": {},
   "outputs": [],
   "source": [
    "def roll_dice():\n",
    "\n",
    "    # Move to the dice position to roll the dice\n",
    "    moveArm(Arm, positions['dice'])\n",
    "    time.sleep(4)\n",
    "\n",
    "    # move to the 'dice read' position to see the dice properly\n",
    "    moveArm(Arm, positions['dice_read'])\n",
    "    time.sleep(5)\n",
    "\n",
    "    # Take the picture for analysis\n",
    "    image = take_picture()\n",
    "\n",
    "    # Go back to the top and open the gripper to get ready to move the piece\n",
    "    return_to_top(Arm)\n",
    "    time.sleep(5)\n",
    "    Arm.Arm_serial_servo_write(6, 135, 2000)\n",
    "    time.sleep(3)\n",
    "\n",
    "    # Return the image (Still in byte format)\n",
    "    return image\n"
   ]
  },
  {
   "cell_type": "markdown",
   "id": "0c49445a-5608-423e-a299-ecbc78c983f1",
   "metadata": {},
   "source": [
    "Function to make a prediction on a given image"
   ]
  },
  {
   "cell_type": "code",
   "execution_count": 40,
   "id": "47b6333a-fabb-4a10-95d7-e20a6bc2a8c9",
   "metadata": {},
   "outputs": [],
   "source": [
    "def predict_image(model, jpg_image):\n",
    "\n",
    "    # Declare class names as the model is loaded from .h5 file\n",
    "    class_names = ['1', '2', '3', '4', '5', '6']\n",
    "\n",
    "    # Load the given image (image is in byte format) and transform it into a numpy array\n",
    "    image = Image.open(io.BytesIO(jpg_image))\n",
    "    image_array = np.array(image)\n",
    "\n",
    "    # Resize the image to 180 x 180 as the AI model uses that size\n",
    "    image_array = cv2.resize(image_array, (180, 180))\n",
    "    image_array = image_array / 255.0\n",
    "\n",
    "    # Expand the dimenstions of the array to suit the format required by AI model\n",
    "    image_array = np.expand_dims(image_array, axis=0)\n",
    "\n",
    "    # Make the prediction\n",
    "    prediction = model.predict(image_array)\n",
    "\n",
    "    # Isolate the important variables from the prediciton\n",
    "    confidence_scores = prediction[0]\n",
    "    max_index = np.argmax(confidence_scores)\n",
    "    class_name = class_names[max_index]\n",
    "    confidence_percentage = confidence_scores[max_index] * 100\n",
    "\n",
    "    # _________________________________________\n",
    "    score = tf.nn.softmax(prediction[0])\n",
    "    print(f\"CLASS: {class_names[(np.argmax(score))]}, SCORE: {100 * np.max(score)}%\")\n",
    "    #_______________________________________________________\n",
    "    # Print out the result and return the classname in int form to use for making moves\n",
    "    # print(f\"Predicted class: {class_name} ({round(100 * np.max(score)), 2}% confidence)\")\n",
    "    return int(class_name)\n"
   ]
  },
  {
   "cell_type": "markdown",
   "id": "c6311e57-c533-4ca0-87f3-03ffe47d4faa",
   "metadata": {},
   "source": [
    "Functions to check for Snakes & Ladders"
   ]
  },
  {
   "cell_type": "code",
   "execution_count": 24,
   "id": "7f0bd8be-d74d-44df-a8ca-01e368646a95",
   "metadata": {},
   "outputs": [],
   "source": [
    "def check_for_snakes(robot_position):\n",
    "\n",
    "    # Set the snake positions\n",
    "    snake_positions = [7, 10, 21, 24, 33]\n",
    "\n",
    "    # Set the places the robot has to move back to if it lands on a snake\n",
    "    new_locations = {\n",
    "        7: 4,\n",
    "        10: 2,\n",
    "        21: 13,\n",
    "        24: 6,\n",
    "        33: 19\n",
    "    }\n",
    "    \n",
    "    # Check if the robot has landed on a snake and return the new location if it did land on a snake\n",
    "    if robot_position in snake_positions:\n",
    "        print(\"Snake!\")\n",
    "        return new_locations[robot_position]\n",
    "    else:\n",
    "        print(\"No Snake :)\")\n",
    "        return False\n",
    "        "
   ]
  },
  {
   "cell_type": "code",
   "execution_count": 15,
   "id": "42f37bce-682f-409f-ab9a-8c39d4362457",
   "metadata": {},
   "outputs": [],
   "source": [
    "def check_for_ladders(robot_position):\n",
    "\n",
    "    # Set the snake positions\n",
    "    ladder_positions = [1, 5, 11, 15, 20]\n",
    "\n",
    "    # Set the places the robot moves the piece to if it lands on a ladder\n",
    "    new_locations = {\n",
    "        1: 12,\n",
    "        5: 16,\n",
    "        11: 22,\n",
    "        15: 23,\n",
    "        20: 31\n",
    "    }\n",
    "    \n",
    "    # Check if the robot has landed on a snake and return the new location if it did land on a snake\n",
    "    if robot_position in ladder_positions:\n",
    "        print(\"Ladder!\")\n",
    "        return new_locations[robot_position]\n",
    "    else:\n",
    "        print(\"No ladder :(\")\n",
    "        return False"
   ]
  },
  {
   "cell_type": "markdown",
   "id": "e60dc3a2-18be-420c-930c-92e4093ce4eb",
   "metadata": {},
   "source": [
    "# MAIN FUNCTION"
   ]
  },
  {
   "cell_type": "code",
   "execution_count": 42,
   "id": "a27f8fb5-d9c4-4523-9952-4c6a87e06030",
   "metadata": {},
   "outputs": [],
   "source": [
    "def main():\n",
    "    # Load the Robotic Arm to control the arm\n",
    "    Arm = Arm_Device()\n",
    "    \n",
    "    # Load the AI model for predictions\n",
    "    model = load_model('dice_detection_final.h5')\n",
    "\n",
    "    # Initialise the Robot's position and set win status to false\n",
    "    current_position = 0\n",
    "    win = False\n",
    "    \n",
    "    # Play until it has won\n",
    "    while win == False:\n",
    "\n",
    "        # First roll the dice to know how much to move\n",
    "        dice_roll_image = roll_dice()\n",
    "\n",
    "        # # Make AI Prediction on the dice roll\n",
    "        number_of_moves = predict_image(model, dice_roll_image)\n",
    "\n",
    "        # Calculate the new position to be in\n",
    "        new_position = current_position + number_of_moves\n",
    "\n",
    "        # Make sure the new position is still on the board\n",
    "        if new_position < 34:\n",
    "\n",
    "            # Move to the piece to the new position\n",
    "            pick_up(Arm, positions[current_position])\n",
    "            put_down(Arm, positions[new_position])\n",
    "    \n",
    "            # Set the current position to the new position\n",
    "            current_position = new_position\n",
    "\n",
    "            # Check if there is a snake or a ladder\n",
    "            snake = check_for_snakes(current_position)\n",
    "            ladder = check_for_ladders(current_position)\n",
    "\n",
    "            # Move accordingly based on the check of snakes and ladders\n",
    "            # Note that the checking functions return the NEW POSITION of the Robot\n",
    "            if snake:\n",
    "                pick_up(Arm, positions[current_position])\n",
    "                put_down(Arm, positions[snake])\n",
    "                current_position = snake\n",
    "            if ladder:\n",
    "                pick_up(Arm, positions[current_position])\n",
    "                put_down(Arm, positions[ladder])\n",
    "                current_position = ladder\n",
    "\n",
    "        # If the new position is >=34, then the game is over\n",
    "        else:\n",
    "            \n",
    "            # Move the robot's piece to the ending square and set the win flag to true\n",
    "            pick_up(Arm, positions[current_position])\n",
    "            put_down(Arm, positions[34])\n",
    "            win = True\n",
    "        "
   ]
  },
  {
   "cell_type": "code",
   "execution_count": null,
   "id": "a5e9da45-5ecd-4c7a-9915-3a11df62df29",
   "metadata": {},
   "outputs": [
    {
     "name": "stdout",
     "output_type": "stream",
     "text": [
      "Going up\n",
      "1/1 [==============================] - 0s 291ms/step\n",
      "CLASS: 6, SCORE: 26.80204212665558\n",
      "Predicted class: 6 ((27, 2)% confidence)\n",
      "Moving to pick position: [123, 67, 26, 1, 116, 135]\n",
      "Picking up object...\n",
      "Going up\n",
      "Moving to down position: [78, 86, 5, 16, 73, 135]\n",
      "Dropping Object...\n",
      "Going up\n",
      "No Snake :)\n",
      "No ladder :(\n",
      "Going up\n",
      "1/1 [==============================] - 0s 86ms/step\n",
      "CLASS: 6, SCORE: 26.306328177452087\n",
      "Predicted class: 6 ((26, 2)% confidence)\n",
      "Moving to pick position: [78, 86, 5, 16, 73, 135]\n",
      "Picking up object...\n",
      "Going up\n",
      "Moving to down position: [91, 56, 43, 3, 88, 135]\n",
      "Dropping Object...\n",
      "Going up\n",
      "No Snake :)\n",
      "No ladder :(\n",
      "Going up\n",
      "1/1 [==============================] - 0s 87ms/step\n",
      "CLASS: 5, SCORE: 26.23499631881714\n",
      "Predicted class: 5 ((26, 2)% confidence)\n",
      "Moving to pick position: [91, 56, 43, 3, 88, 135]\n"
     ]
    }
   ],
   "source": [
    "main()"
   ]
  },
  {
   "cell_type": "code",
   "execution_count": null,
   "id": "63e413e7-909e-4c9a-af96-56d87fcc5e4b",
   "metadata": {},
   "outputs": [],
   "source": []
  }
 ],
 "metadata": {
  "kernelspec": {
   "display_name": "Python 3 (ipykernel)",
   "language": "python",
   "name": "python3"
  },
  "language_info": {
   "codemirror_mode": {
    "name": "ipython",
    "version": 3
   },
   "file_extension": ".py",
   "mimetype": "text/x-python",
   "name": "python",
   "nbconvert_exporter": "python",
   "pygments_lexer": "ipython3",
   "version": "3.8.0"
  }
 },
 "nbformat": 4,
 "nbformat_minor": 5
}
